{
 "cells": [
  {
   "cell_type": "code",
   "execution_count": 1,
   "metadata": {},
   "outputs": [],
   "source": [
    "import numpy as np\n",
    "import cv2\n"
   ]
  },
  {
   "cell_type": "code",
   "execution_count": 13,
   "metadata": {},
   "outputs": [],
   "source": [
    "#读入数据\n",
    "points = []\n",
    "with open('points.txt', 'r') as f:\n",
    "    num_points = int(f.readline().strip())\n",
    "    for _ in range(num_points):\n",
    "        point = list(map(float, f.readline().strip().split()))\n",
    "        points.append(point)\n",
    "\n",
    "points = np.array(points)\n",
    "\n",
    "K = np.array([[400, 0, 190],\n",
    "              [0, 400, 160],\n",
    "              [0, 0, 1]])\n",
    "\n",
    "cam_position = np.array([2, 2, 2])\n",
    "quaternion = np.array([-0.5, 0.5, 0.5, -0.5])\n"
   ]
  },
  {
   "cell_type": "code",
   "execution_count": 14,
   "metadata": {},
   "outputs": [],
   "source": [
    "#四元数转矩阵\n",
    "def quaternion_to_mat(Q):\n",
    "    w, x, y, z = Q\n",
    "    return np.array([[1 - 2*(y**2 + z**2), 2*(x*y - z*w), 2*(x*z + y*w)],\n",
    "                    [2*(x*y + z*w), 1 - 2*(x**2 + z**2), 2*(y*z - x*w)],\n",
    "                    [2*(x*z - y*w), 2*(y*z + x*w), 1 - 2*(x**2 + y**2)]])\n",
    "\n",
    "R = quaternion_to_mat(quaternion)\n"
   ]
  },
  {
   "cell_type": "code",
   "execution_count": 22,
   "metadata": {},
   "outputs": [
    {
     "name": "stdout",
     "output_type": "stream",
     "text": [
      "2048\n"
     ]
    }
   ],
   "source": [
    "res_points = []\n",
    "\n",
    "for point in points:\n",
    "    cam_point = R.T @ (point - cam_position)\n",
    "\n",
    "    if cam_point[2] > 0:  # 点在相机前面，变换后加入图上点集\n",
    "        proj_point = K @ cam_point\n",
    "        proj_point /= proj_point[2] \n",
    "        res_points.append((int(proj_point[0]), int(proj_point[1])))\n",
    "\n",
    "print(len(res_points))\n",
    "\n",
    "# 创建图像，绘制点\n",
    "image = np.zeros((1000, 1200, 3), dtype=np.uint8)\n",
    "for pt in res_points:\n",
    "    cv2.circle(image, pt, 3, (0, 255, 0), -1)\n",
    "\n",
    "cv2.imwrite(\"./output.jpg\", image)\n",
    "\n",
    "cv2.imshow(\"Projected Points\", image)\n",
    "cv2.waitKey(0)\n",
    "cv2.destroyAllWindows()\n",
    "\n"
   ]
  }
 ],
 "metadata": {
  "kernelspec": {
   "display_name": "Python 3",
   "language": "python",
   "name": "python3"
  },
  "language_info": {
   "codemirror_mode": {
    "name": "ipython",
    "version": 3
   },
   "file_extension": ".py",
   "mimetype": "text/x-python",
   "name": "python",
   "nbconvert_exporter": "python",
   "pygments_lexer": "ipython3",
   "version": "3.11.9"
  }
 },
 "nbformat": 4,
 "nbformat_minor": 2
}
