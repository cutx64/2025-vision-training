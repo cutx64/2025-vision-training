{
 "cells": [
  {
   "cell_type": "code",
   "execution_count": 1,
   "metadata": {},
   "outputs": [],
   "source": [
    "import numpy as np\n",
    "import cv2"
   ]
  },
  {
   "cell_type": "code",
   "execution_count": 8,
   "metadata": {},
   "outputs": [],
   "source": [
    "VIDEO_PATH='./armor.mp4'\n",
    "OUTPUT_PATH='./output.mp4'"
   ]
  },
  {
   "cell_type": "code",
   "execution_count": 110,
   "metadata": {},
   "outputs": [],
   "source": [
    "cap=cv2.VideoCapture(VIDEO_PATH)\n",
    "width = int(cap.get(cv2.CAP_PROP_FRAME_WIDTH))\n",
    "height = int(cap.get(cv2.CAP_PROP_FRAME_HEIGHT))\n",
    "fps = int(cap.get(cv2.CAP_PROP_FPS))\n",
    "out = cv2.VideoWriter(OUTPUT_PATH, cv2.VideoWriter_fourcc(*'mp4v'), fps, (width, height))\n",
    "\n",
    "#hsv下的颜色掩膜，筛选出橙黄色灯条\n",
    "lower_msk=np.array([10, 100, 100])\n",
    "upper_msk=np.array([40, 255, 255])\n",
    "\n",
    "while True:\n",
    "    ret, frame = cap.read()\n",
    "    if not ret:\n",
    "        break\n",
    "\n",
    "    #二值化保留较亮部分，之后筛选颜色\n",
    "    _, thresh = cv2.threshold(frame, 230, 255, cv2.THRESH_BINARY)\n",
    "    hsv = cv2.cvtColor(thresh, cv2.COLOR_BGR2HSV)\n",
    "    msk=cv2.inRange(hsv, lower_msk, upper_msk)\n",
    "\n",
    "    #检测轮廓\n",
    "    contours, _ = cv2.findContours(msk, cv2.RETR_EXTERNAL, cv2.CHAIN_APPROX_SIMPLE)\n",
    "    lightbars = []\n",
    "\n",
    "    colors=[[255,150,150],[150,255,150],[150,150,255]]\n",
    "    i=0\n",
    "    #筛选轮廓，加入灯条列表\n",
    "    for contour in contours:\n",
    "            if cv2.contourArea(contour) > 100:  \n",
    "                x,y,w,h = cv2.boundingRect(contour)\n",
    "                if(w>50 or h<20):\n",
    "                     continue\n",
    "                cv2.drawContours(frame, [contour], -1, colors[i], 2)\n",
    "                i=(i+1)%3\n",
    "                lightbars.append(contour)\n",
    "\n",
    "    def dist(X,Y):\n",
    "        return np.sum((X-Y)**2)**0.5\n",
    "\n",
    "    def findcentre(contour):\n",
    "        x,y,w,h = cv2.boundingRect(contour)\n",
    "        return np.array([x+w//2, y+h//2])\n",
    "\n",
    "    def isadja(light1, light2):\n",
    "        C1, C2 = findcentre(light1), findcentre(light2)\n",
    "        return abs(C1[1]-C2[1])<20 and abs(C1[0]-C2[0])<100\n",
    "\n",
    "    #相邻的灯条构成装甲板，在图中绘制出矩形和中心\n",
    "    for i in range(1,len(lightbars)):\n",
    "        light1, light2 = lightbars[i-1], lightbars[i]\n",
    "        x1, y1, w1, h1 = cv2.boundingRect(light1)\n",
    "        x2, y2, w2, h2 = cv2.boundingRect(light2)\n",
    "\n",
    "        if (isadja(light1, light2)):\n",
    "            mn = np.array([min(x1, x2), min(y1, y2)])\n",
    "            mx = np.array([max(x1+w1, x2+w2), max(y1+h1, y2+h2)])\n",
    "            cen= (mn+mx)//2\n",
    "            cv2.rectangle(frame, mn, mx,(0, 255, 0), 2)\n",
    "            cv2.circle(frame, cen, 2, (255, 0, 0), 2)\n",
    "         \n",
    "\n",
    "    out.write(frame)\n",
    "\n",
    "    cv2.imshow('Detection', frame)\n",
    "    if cv2.waitKey(20) == ord(' '): \n",
    "        break\n",
    "\n",
    "cap.release()\n",
    "out.release()\n",
    "cv2.destroyAllWindows()"
   ]
  },
  {
   "cell_type": "code",
   "execution_count": 83,
   "metadata": {},
   "outputs": [
    {
     "data": {
      "text/plain": [
       "{}"
      ]
     },
     "execution_count": 83,
     "metadata": {},
     "output_type": "execute_result"
    }
   ],
   "source": [
    "{}"
   ]
  },
  {
   "cell_type": "code",
   "execution_count": null,
   "metadata": {},
   "outputs": [],
   "source": []
  }
 ],
 "metadata": {
  "kernelspec": {
   "display_name": "Python 3",
   "language": "python",
   "name": "python3"
  },
  "language_info": {
   "codemirror_mode": {
    "name": "ipython",
    "version": 3
   },
   "file_extension": ".py",
   "mimetype": "text/x-python",
   "name": "python",
   "nbconvert_exporter": "python",
   "pygments_lexer": "ipython3",
   "version": "3.11.9"
  }
 },
 "nbformat": 4,
 "nbformat_minor": 2
}
