{
 "cells": [
  {
   "cell_type": "code",
   "execution_count": 1,
   "metadata": {},
   "outputs": [],
   "source": [
    "import numpy as np\n",
    "import cv2"
   ]
  },
  {
   "cell_type": "code",
   "execution_count": 5,
   "metadata": {},
   "outputs": [],
   "source": [
    "armor_scale=np.array([[-0.115, 0.0265, 0.],\n",
    "                    [-0.115, -0.0265, 0.],\n",
    "                    [0.115, -0.0265, 0.],\n",
    "                    [0.115, 0.0265, 0.]])\n",
    "\n",
    "imu_quaternion=np.array([0.994363, -0.0676645, -0.00122528, -0.0816168])\n",
    "\n",
    "armor_pixel=np.array([[575.508, 282.175],\n",
    "                    [573.93, 331.819],\n",
    "                    [764.518, 337.652],\n",
    "                    [765.729, 286.741]])\n",
    "pixel_centre = np.mean(armor_pixel, axis=0)\n",
    "\n",
    "F_mat=np.array([[1.4142055480888289e+03, 0., 6.5792667877101735e+02], \n",
    "                [0.,1.4137212634286254e+03, 4.0455967287503142e+02],\n",
    "                [0., 0., 1. ]])\n",
    "C_mat=np.array([-1.5713532786218060e-01, 3.3883933349759310e-01,\n",
    "                7.0103028435554145e-04, -2.9035486504482461e-04,\n",
    "                -4.2372708010388316e-01])"
   ]
  },
  {
   "cell_type": "code",
   "execution_count": 11,
   "metadata": {},
   "outputs": [],
   "source": [
    "_, rvec, tvec = cv2.solvePnP(armor_scale, armor_pixel, F_mat, C_mat)\n",
    "rotation_mat, _ = cv2.Rodrigues(rvec)\n",
    "\n",
    "def quaternion_to_mat(Q):\n",
    "    qx, qy, qz, qw = Q\n",
    "    return np.array([[1 - 2 * (qy**2 + qz**2), 2 * (qx * qy - qz * qw), 2 * (qx * qz + qy * qw)],\n",
    "                    [2 * (qx * qy + qz * qw), 1 - 2 * (qx**2 + qz**2), 2 * (qy * qz - qx * qw)],\n",
    "                    [2 * (qx * qz - qy * qw), 2 * (qy * qz + qx * qw), 1 - 2 * (qx**2 + qy**2)]])\n",
    "\n",
    "imu_mat=quaternion_to_mat(imu_quaternion)\n"
   ]
  },
  {
   "cell_type": "code",
   "execution_count": 12,
   "metadata": {},
   "outputs": [
    {
     "name": "stdout",
     "output_type": "stream",
     "text": [
      "[-0.74828544 -0.27842734  1.27103443]\n"
     ]
    }
   ],
   "source": [
    "real_mat = imu_mat @ rotation_mat\n",
    "armor_center_imu = real_mat @ tvec.reshape(-1)\n",
    "\n",
    "print(armor_center_imu)\n"
   ]
  }
 ],
 "metadata": {
  "kernelspec": {
   "display_name": "Python 3",
   "language": "python",
   "name": "python3"
  },
  "language_info": {
   "codemirror_mode": {
    "name": "ipython",
    "version": 3
   },
   "file_extension": ".py",
   "mimetype": "text/x-python",
   "name": "python",
   "nbconvert_exporter": "python",
   "pygments_lexer": "ipython3",
   "version": "3.11.9"
  }
 },
 "nbformat": 4,
 "nbformat_minor": 2
}
