{
 "cells": [
  {
   "cell_type": "code",
   "execution_count": 1,
   "metadata": {},
   "outputs": [],
   "source": [
    "import numpy as np\n",
    "import cv2"
   ]
  },
  {
   "cell_type": "code",
   "execution_count": 69,
   "metadata": {},
   "outputs": [],
   "source": [
    "img=cv2.imread(\"./apple.png\")\n",
    "\n",
    "#cv2.imshow(\"apple\", img)\n",
    "#cv2.waitKey(0)\n",
    "#cv2.destroyAllWindows()\n",
    "\n",
    "\n",
    "img_hsv=cv2.cvtColor(img, cv2.COLOR_BGR2HSV)\n",
    "\n",
    "lmsk=np.array([160,160,100])\n",
    "rmsk=np.array([180,255,255])\n",
    "msk=cv2.inRange(img_hsv, lmsk, rmsk)\n",
    "\n",
    "lmsk[0], rmsk[0] = 0, 22\n",
    "msk = msk | cv2.inRange(img_hsv, lmsk, rmsk)\n",
    "\n",
    "contours, _ = cv2.findContours(msk, cv2.RETR_EXTERNAL, cv2.CHAIN_APPROX_SIMPLE)\n",
    "\n",
    "for contour in contours:\n",
    "    if cv2.contourArea(contour) > 1000:\n",
    "        cv2.drawContours(img, [contour], -1, (0, 255, 0), 2)\n",
    "\n",
    "#cv2.imshow(\"Masked apple\", msk)\n",
    "cv2.imshow('Detected apple', img)\n",
    "cv2.waitKey(0)\n",
    "cv2.destroyAllWindows()"
   ]
  }
 ],
 "metadata": {
  "kernelspec": {
   "display_name": "Python 3",
   "language": "python",
   "name": "python3"
  },
  "language_info": {
   "codemirror_mode": {
    "name": "ipython",
    "version": 3
   },
   "file_extension": ".py",
   "mimetype": "text/x-python",
   "name": "python",
   "nbconvert_exporter": "python",
   "pygments_lexer": "ipython3",
   "version": "3.11.9"
  }
 },
 "nbformat": 4,
 "nbformat_minor": 2
}
